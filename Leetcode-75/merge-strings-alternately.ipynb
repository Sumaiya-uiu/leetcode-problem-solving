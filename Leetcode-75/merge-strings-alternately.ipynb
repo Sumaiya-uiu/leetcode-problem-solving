{
 "cells": [
  {
   "cell_type": "code",
   "execution_count": null,
   "id": "7e0201fb-1031-4417-9ae3-f7e7e9168615",
   "metadata": {},
   "outputs": [],
   "source": [
    "# You are given two strings word1 and word2. Merge the strings by adding letters in alternating order, starting with word1. If a string is longer than the other, append the additional letters onto the end of the merged string.\n",
    "\n",
    "# Return the merged string.\n",
    "\n",
    " \n",
    "\n",
    "# Example 1:\n",
    "\n",
    "# Input: word1 = \"abc\", word2 = \"pqr\"\n",
    "# Output: \"apbqcr\"\n",
    "# Explanation: The merged string will be merged as so:\n",
    "# word1:  a   b   c\n",
    "# word2:    p   q   r\n",
    "# merged: a p b q c r\n",
    "# Example 2:\n",
    "\n",
    "# Input: word1 = \"ab\", word2 = \"pqrs\"\n",
    "# Output: \"apbqrs\"\n",
    "# Explanation: Notice that as word2 is longer, \"rs\" is appended to the end.\n",
    "# word1:  a   b \n",
    "# word2:    p   q   r   s\n",
    "# merged: a p b q   r   s\n",
    "# Example 3:\n",
    "\n",
    "# Input: word1 = \"abcd\", word2 = \"pq\"\n",
    "# Output: \"apbqcd\"\n",
    "# Explanation: Notice that as word1 is longer, \"cd\" is appended to the end.\n",
    "# word1:  a   b   c   d\n",
    "# word2:    p   q \n",
    "# merged: a p b q c   d\n",
    " \n",
    "\n",
    "# Constraints:\n",
    "\n",
    "# 1 <= word1.length, word2.length <= 100\n",
    "# word1 and word2 consist of lowercase English letters.\n"
   ]
  },
  {
   "cell_type": "code",
   "execution_count": 2,
   "id": "e3ddf450-ed15-4d3f-b29e-11ca8df37c41",
   "metadata": {},
   "outputs": [
    {
     "name": "stdout",
     "output_type": "stream",
     "text": [
      "Test case 2\n",
      "apbqrs\n"
     ]
    }
   ],
   "source": [
    "def mergeAlternately(word1: str, word2: str) -> str:\n",
    "    merged = []\n",
    "    i, j = 0, 0\n",
    "    \n",
    "    while i < len(word1) and j < len(word2):\n",
    "        merged.append(word1[i])\n",
    "        merged.append(word2[j])\n",
    "        i += 1\n",
    "        j += 1\n",
    "    \n",
    "    if i < len(word1):\n",
    "        merged.extend(word1[i:])\n",
    "    \n",
    "    if j < len(word2):\n",
    "        merged.extend(word2[j:])\n",
    "    \n",
    "    return ''.join(merged)\n",
    "\n",
    "# Test cases\n",
    "# print(\"Test case 1\")\n",
    "# print(mergeAlternately(\"abc\", \"pqr\"))  # Output: \"apbqcr\"\n",
    "print(\"Test case 2\")\n",
    "print(mergeAlternately(\"ab\", \"pqrs\"))  # Output: \"apbqrs\"\n",
    "# print(\"Test case 3\")\n",
    "# print(mergeAlternately(\"abcd\", \"pq\"))  # Output: \"apbqcd\""
   ]
  }
 ],
 "metadata": {
  "kernelspec": {
   "display_name": "Python 3 (ipykernel)",
   "language": "python",
   "name": "python3"
  },
  "language_info": {
   "codemirror_mode": {
    "name": "ipython",
    "version": 3
   },
   "file_extension": ".py",
   "mimetype": "text/x-python",
   "name": "python",
   "nbconvert_exporter": "python",
   "pygments_lexer": "ipython3",
   "version": "3.11.4"
  }
 },
 "nbformat": 4,
 "nbformat_minor": 5
}
