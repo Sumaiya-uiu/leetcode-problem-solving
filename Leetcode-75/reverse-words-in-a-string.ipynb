{
 "cells": [
  {
   "cell_type": "code",
   "execution_count": null,
   "id": "ae91e937-a34b-47b6-8f4d-968db99f8e2c",
   "metadata": {},
   "outputs": [],
   "source": [
    "# Given an input string s, reverse the order of the words.\n",
    "\n",
    "# A word is defined as a sequence of non-space characters. The words in s will be separated by at least one space.\n",
    "\n",
    "# Return a string of the words in reverse order concatenated by a single space.\n",
    "\n",
    "# Note that s may contain leading or trailing spaces or multiple spaces between two words. The returned string should only have a single space separating the words. Do not include any extra spaces.\n",
    "\n",
    " \n",
    "\n",
    "# Example 1:\n",
    "\n",
    "# Input: s = \"the sky is blue\"\n",
    "# Output: \"blue is sky the\"\n",
    "# Example 2:\n",
    "\n",
    "# Input: s = \"  hello world  \"\n",
    "# Output: \"world hello\"\n",
    "# Explanation: Your reversed string should not contain leading or trailing spaces.\n",
    "# Example 3:\n",
    "\n",
    "# Input: s = \"a good   example\"\n",
    "# Output: \"example good a\"\n",
    "# Explanation: You need to reduce multiple spaces between two words to a single space in the reversed string.\n",
    " \n",
    "\n",
    "# Constraints:\n",
    "\n",
    "# 1 <= s.length <= 104\n",
    "# s contains English letters (upper-case and lower-case), digits, and spaces ' '.\n",
    "# There is at least one word in s.\n",
    " \n",
    "\n",
    "# Follow-up: If the string data type is mutable in your language, can you solve it in-place with O(1) extra space?\n",
    "\n"
   ]
  },
  {
   "cell_type": "code",
   "execution_count": 7,
   "id": "6a6193cb-b888-4beb-a747-97a334347768",
   "metadata": {},
   "outputs": [
    {
     "name": "stdout",
     "output_type": "stream",
     "text": [
      "example good a\n"
     ]
    }
   ],
   "source": [
    "s = \"a good   example\"\n",
    "words = s.split()\n",
    "# Reverse the order of the words\n",
    "reversed_words = words[::-1]\n",
    "# Join the reversed words with a single space\n",
    "rev = ' '.join(reversed_words)\n",
    "\n",
    "print(rev)"
   ]
  }
 ],
 "metadata": {
  "kernelspec": {
   "display_name": "Python 3 (ipykernel)",
   "language": "python",
   "name": "python3"
  },
  "language_info": {
   "codemirror_mode": {
    "name": "ipython",
    "version": 3
   },
   "file_extension": ".py",
   "mimetype": "text/x-python",
   "name": "python",
   "nbconvert_exporter": "python",
   "pygments_lexer": "ipython3",
   "version": "3.11.4"
  }
 },
 "nbformat": 4,
 "nbformat_minor": 5
}
